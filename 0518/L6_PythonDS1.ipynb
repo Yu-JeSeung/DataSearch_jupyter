{
 "cells": [
  {
   "cell_type": "code",
   "execution_count": 1,
   "id": "28a96928",
   "metadata": {},
   "outputs": [],
   "source": [
    "import pandas as pd\n",
    "import numpy as np"
   ]
  },
  {
   "cell_type": "code",
   "execution_count": 3,
   "id": "958977bc",
   "metadata": {},
   "outputs": [
    {
     "data": {
      "text/plain": [
       "0    4\n",
       "1    1\n",
       "2    2\n",
       "3    3\n",
       "dtype: int64"
      ]
     },
     "execution_count": 3,
     "metadata": {},
     "output_type": "execute_result"
    }
   ],
   "source": [
    "series1 = pd.Series([4,1,2,3])\n",
    "series1"
   ]
  },
  {
   "cell_type": "code",
   "execution_count": 5,
   "id": "364ddeb0",
   "metadata": {},
   "outputs": [
    {
     "data": {
      "text/plain": [
       "a    10\n",
       "b     9\n",
       "c     3\n",
       "dtype: int64"
      ]
     },
     "execution_count": 5,
     "metadata": {},
     "output_type": "execute_result"
    }
   ],
   "source": [
    "# 딕셔너리\n",
    "series2 = pd.Series({'a':10,'b':9,'c':3})\n",
    "series2"
   ]
  },
  {
   "cell_type": "code",
   "execution_count": 6,
   "id": "e656cfae",
   "metadata": {},
   "outputs": [
    {
     "data": {
      "text/plain": [
       "array([10,  9,  3])"
      ]
     },
     "execution_count": 6,
     "metadata": {},
     "output_type": "execute_result"
    }
   ],
   "source": [
    "series2.values"
   ]
  },
  {
   "cell_type": "code",
   "execution_count": 7,
   "id": "a9fdab64",
   "metadata": {},
   "outputs": [
    {
     "data": {
      "text/plain": [
       "Index(['a', 'b', 'c'], dtype='object')"
      ]
     },
     "execution_count": 7,
     "metadata": {},
     "output_type": "execute_result"
    }
   ],
   "source": [
    "series2.index"
   ]
  },
  {
   "cell_type": "code",
   "execution_count": 8,
   "id": "2050ec6b",
   "metadata": {},
   "outputs": [
    {
     "data": {
      "text/plain": [
       "dtype('int64')"
      ]
     },
     "execution_count": 8,
     "metadata": {},
     "output_type": "execute_result"
    }
   ],
   "source": [
    "# dtype은 데이터 타입을 뜻함\n",
    "series2.dtype"
   ]
  },
  {
   "cell_type": "code",
   "execution_count": 10,
   "id": "c4f4068b",
   "metadata": {},
   "outputs": [
    {
     "data": {
      "text/plain": [
       "a    10\n",
       "b     9\n",
       "c     3\n",
       "Name: Test1, dtype: int64"
      ]
     },
     "execution_count": 10,
     "metadata": {},
     "output_type": "execute_result"
    }
   ],
   "source": [
    "# 타입에 이름 지정하기\n",
    "series2.name = 'Test1'\n",
    "series2"
   ]
  },
  {
   "cell_type": "code",
   "execution_count": 12,
   "id": "aa0c9d97",
   "metadata": {},
   "outputs": [
    {
     "data": {
      "text/plain": [
       "Test1_index\n",
       "a    10\n",
       "b     9\n",
       "c     3\n",
       "Name: Test1, dtype: int64"
      ]
     },
     "execution_count": 12,
     "metadata": {},
     "output_type": "execute_result"
    }
   ],
   "source": [
    "# 인덱스에 이름 지정하기\n",
    "series2.index.name = 'Test1_index'\n",
    "series2"
   ]
  },
  {
   "cell_type": "code",
   "execution_count": 13,
   "id": "8ada517a",
   "metadata": {},
   "outputs": [
    {
     "data": {
      "text/plain": [
       "x    10\n",
       "y     9\n",
       "z     3\n",
       "Name: Test1, dtype: int64"
      ]
     },
     "execution_count": 13,
     "metadata": {},
     "output_type": "execute_result"
    }
   ],
   "source": [
    "# 인덱스 값 바꾸기\n",
    "# 단 개수가 같아야 한다\n",
    "series2.index = ['x','y','z']\n",
    "series2"
   ]
  },
  {
   "cell_type": "code",
   "execution_count": null,
   "id": "b6746d2d",
   "metadata": {},
   "outputs": [],
   "source": []
  }
 ],
 "metadata": {
  "kernelspec": {
   "display_name": "Python 3 (ipykernel)",
   "language": "python",
   "name": "python3"
  },
  "language_info": {
   "codemirror_mode": {
    "name": "ipython",
    "version": 3
   },
   "file_extension": ".py",
   "mimetype": "text/x-python",
   "name": "python",
   "nbconvert_exporter": "python",
   "pygments_lexer": "ipython3",
   "version": "3.10.9"
  }
 },
 "nbformat": 4,
 "nbformat_minor": 5
}
